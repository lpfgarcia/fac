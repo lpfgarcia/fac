{
 "cells": [
  {
   "cell_type": "markdown",
   "id": "64cfba3c-ced1-4408-b608-efb4363f83ef",
   "metadata": {},
   "source": [
    "# Indução dos modelos"
   ]
  },
  {
   "cell_type": "code",
   "execution_count": 1,
   "id": "6e042554-fb0a-4598-bac6-9e9b58e6d914",
   "metadata": {},
   "outputs": [],
   "source": [
    "import logging\n",
    "logging.basicConfig(level=logging.WARNING)"
   ]
  },
  {
   "cell_type": "code",
   "execution_count": 2,
   "id": "e35ddd40-99e8-4048-8b91-6165ec59fc38",
   "metadata": {},
   "outputs": [],
   "source": [
    "import getpass\n",
    "import os"
   ]
  },
  {
   "cell_type": "code",
   "execution_count": 3,
   "id": "371f0b5e-0fe2-42cf-b7d5-f0d6b3ce09fe",
   "metadata": {},
   "outputs": [],
   "source": [
    "os.environ[\"CUDA_VISIBLE_DEVICES\"] = \"0\""
   ]
  },
  {
   "cell_type": "code",
   "execution_count": 4,
   "id": "dd56b7fd-5afc-4fa1-bdc8-e9c5782cf133",
   "metadata": {},
   "outputs": [],
   "source": [
    "openai_key = ''"
   ]
  },
  {
   "cell_type": "code",
   "execution_count": 5,
   "id": "0486b156-ae31-40b3-b445-29c57729205d",
   "metadata": {},
   "outputs": [],
   "source": [
    "cnpq = ['new_cnpq_level_1a',\n",
    "        'new_cnpq_level_2a',\n",
    "        'new_cnpq_level_3a',\n",
    "        'new_cnpq_level_4a']"
   ]
  },
  {
   "cell_type": "markdown",
   "id": "b491f2f8-ffa0-4f13-b85b-78471678358c",
   "metadata": {},
   "source": [
    "## Lendo a base traduzida"
   ]
  },
  {
   "cell_type": "code",
   "execution_count": 6,
   "id": "56aa240a-d617-4a49-9ab2-ec5a0c376a36",
   "metadata": {},
   "outputs": [],
   "source": [
    "import pandas as pd"
   ]
  },
  {
   "cell_type": "code",
   "execution_count": 7,
   "id": "d145d2de-6fce-4eee-b472-66bceb581bbc",
   "metadata": {},
   "outputs": [],
   "source": [
    "df = pd.read_csv('unidades_26082024-translated.csv', dtype=str, na_filter=False)"
   ]
  },
  {
   "cell_type": "code",
   "execution_count": 8,
   "id": "3fa68dc0-493f-40e3-b583-e5a8368c4f28",
   "metadata": {},
   "outputs": [
    {
     "data": {
      "text/html": [
       "<div>\n",
       "<style scoped>\n",
       "    .dataframe tbody tr th:only-of-type {\n",
       "        vertical-align: middle;\n",
       "    }\n",
       "\n",
       "    .dataframe tbody tr th {\n",
       "        vertical-align: top;\n",
       "    }\n",
       "\n",
       "    .dataframe thead th {\n",
       "        text-align: right;\n",
       "    }\n",
       "</style>\n",
       "<table border=\"1\" class=\"dataframe\">\n",
       "  <thead>\n",
       "    <tr style=\"text-align: right;\">\n",
       "      <th></th>\n",
       "      <th>Unnamed: 0</th>\n",
       "      <th>fiocruz_id</th>\n",
       "      <th>Título</th>\n",
       "      <th>Resumo</th>\n",
       "      <th>Palavras-chaves do autor</th>\n",
       "      <th>Veículo de publicação</th>\n",
       "      <th>new_cnpq_level_1a</th>\n",
       "      <th>new_cnpq_level_2a</th>\n",
       "      <th>new_cnpq_level_3a</th>\n",
       "      <th>new_cnpq_level_4a</th>\n",
       "      <th>all</th>\n",
       "    </tr>\n",
       "  </thead>\n",
       "  <tbody>\n",
       "    <tr>\n",
       "      <th>0</th>\n",
       "      <td>0</td>\n",
       "      <td>766be0fb94fb303594145c62dbe438b276d64344</td>\n",
       "      <td>Phylogenetic diversity of aerobic spore-formin...</td>\n",
       "      <td>The phylum Firmicutes comprises seven classes ...</td>\n",
       "      <td>Firmicutes,Bacillus and related genera,Sporula...</td>\n",
       "      <td>INTERNATIONAL MICROBIOLOGY</td>\n",
       "      <td>Ciências Biológicas</td>\n",
       "      <td>Genética</td>\n",
       "      <td>Genética Molecular e de Microorganismos</td>\n",
       "      <td></td>\n",
       "      <td>Phylogenetic diversity of aerobic spore-formin...</td>\n",
       "    </tr>\n",
       "    <tr>\n",
       "      <th>1</th>\n",
       "      <td>1</td>\n",
       "      <td>45676e2647955cc6f6c451fdda86309e2a2e91d3</td>\n",
       "      <td>Isolation, Characterization and Antifungal Act...</td>\n",
       "      <td>Capsicum species belong to the Solanaceae fami...</td>\n",
       "      <td>Trypsin inhibitor,Antimicrobial peptides,Capsi...</td>\n",
       "      <td>PROTEIN JOURNAL</td>\n",
       "      <td>Ciências Biológicas</td>\n",
       "      <td>Bioquímica</td>\n",
       "      <td></td>\n",
       "      <td></td>\n",
       "      <td>Isolation, Characterization and Antifungal Act...</td>\n",
       "    </tr>\n",
       "    <tr>\n",
       "      <th>2</th>\n",
       "      <td>4</td>\n",
       "      <td>d8638c08b1385dd7363f55dc2548bae5b0dcba5f</td>\n",
       "      <td>Immune response and pathogenesis of neuroschis...</td>\n",
       "      <td>The involvement of the central nervous system ...</td>\n",
       "      <td>Schistosomiasis,Neuroschistosomiasis,Schistoso...</td>\n",
       "      <td>Acta tropica</td>\n",
       "      <td>Ciências Biológicas</td>\n",
       "      <td>Imunologia</td>\n",
       "      <td></td>\n",
       "      <td></td>\n",
       "      <td>Immune response and pathogenesis of neuroschis...</td>\n",
       "    </tr>\n",
       "    <tr>\n",
       "      <th>3</th>\n",
       "      <td>5</td>\n",
       "      <td>3426f42ecddc619fd8d0f551800df9ef5cc3b711</td>\n",
       "      <td>Eosinophil activation status, cytokines and li...</td>\n",
       "      <td>We have been investigating whether human eosin...</td>\n",
       "      <td>Flow cytometry,Eosinophils,Activation status,C...</td>\n",
       "      <td>Acta tropica</td>\n",
       "      <td>Ciências Biológicas</td>\n",
       "      <td>Imunologia</td>\n",
       "      <td></td>\n",
       "      <td></td>\n",
       "      <td>Eosinophil activation status, cytokines and li...</td>\n",
       "    </tr>\n",
       "    <tr>\n",
       "      <th>4</th>\n",
       "      <td>6</td>\n",
       "      <td>2076749904137385851c93837e028685d290e515</td>\n",
       "      <td>Cytokines, chemokine receptors, CD4(+)CD25(HIG...</td>\n",
       "      <td>Previous studies have demonstrated that distin...</td>\n",
       "      <td>Schistosomiasis,Cytokines,Chemokine receptors,...</td>\n",
       "      <td>Acta tropica</td>\n",
       "      <td>Ciências Biológicas</td>\n",
       "      <td>Imunologia</td>\n",
       "      <td>Imunologia Celular</td>\n",
       "      <td></td>\n",
       "      <td>Cytokines, chemokine receptors, CD4(+)CD25(HIG...</td>\n",
       "    </tr>\n",
       "  </tbody>\n",
       "</table>\n",
       "</div>"
      ],
      "text/plain": [
       "  Unnamed: 0                                fiocruz_id  \\\n",
       "0          0  766be0fb94fb303594145c62dbe438b276d64344   \n",
       "1          1  45676e2647955cc6f6c451fdda86309e2a2e91d3   \n",
       "2          4  d8638c08b1385dd7363f55dc2548bae5b0dcba5f   \n",
       "3          5  3426f42ecddc619fd8d0f551800df9ef5cc3b711   \n",
       "4          6  2076749904137385851c93837e028685d290e515   \n",
       "\n",
       "                                              Título  \\\n",
       "0  Phylogenetic diversity of aerobic spore-formin...   \n",
       "1  Isolation, Characterization and Antifungal Act...   \n",
       "2  Immune response and pathogenesis of neuroschis...   \n",
       "3  Eosinophil activation status, cytokines and li...   \n",
       "4  Cytokines, chemokine receptors, CD4(+)CD25(HIG...   \n",
       "\n",
       "                                              Resumo  \\\n",
       "0  The phylum Firmicutes comprises seven classes ...   \n",
       "1  Capsicum species belong to the Solanaceae fami...   \n",
       "2  The involvement of the central nervous system ...   \n",
       "3  We have been investigating whether human eosin...   \n",
       "4  Previous studies have demonstrated that distin...   \n",
       "\n",
       "                            Palavras-chaves do autor  \\\n",
       "0  Firmicutes,Bacillus and related genera,Sporula...   \n",
       "1  Trypsin inhibitor,Antimicrobial peptides,Capsi...   \n",
       "2  Schistosomiasis,Neuroschistosomiasis,Schistoso...   \n",
       "3  Flow cytometry,Eosinophils,Activation status,C...   \n",
       "4  Schistosomiasis,Cytokines,Chemokine receptors,...   \n",
       "\n",
       "        Veículo de publicação    new_cnpq_level_1a new_cnpq_level_2a  \\\n",
       "0  INTERNATIONAL MICROBIOLOGY  Ciências Biológicas          Genética   \n",
       "1             PROTEIN JOURNAL  Ciências Biológicas        Bioquímica   \n",
       "2                Acta tropica  Ciências Biológicas        Imunologia   \n",
       "3                Acta tropica  Ciências Biológicas        Imunologia   \n",
       "4                Acta tropica  Ciências Biológicas        Imunologia   \n",
       "\n",
       "                         new_cnpq_level_3a new_cnpq_level_4a  \\\n",
       "0  Genética Molecular e de Microorganismos                     \n",
       "1                                                              \n",
       "2                                                              \n",
       "3                                                              \n",
       "4                       Imunologia Celular                     \n",
       "\n",
       "                                                 all  \n",
       "0  Phylogenetic diversity of aerobic spore-formin...  \n",
       "1  Isolation, Characterization and Antifungal Act...  \n",
       "2  Immune response and pathogenesis of neuroschis...  \n",
       "3  Eosinophil activation status, cytokines and li...  \n",
       "4  Cytokines, chemokine receptors, CD4(+)CD25(HIG...  "
      ]
     },
     "execution_count": 8,
     "metadata": {},
     "output_type": "execute_result"
    }
   ],
   "source": [
    "df.head()"
   ]
  },
  {
   "cell_type": "code",
   "execution_count": 9,
   "id": "ded8c9bf-663c-45d4-854f-2ea8466cab15",
   "metadata": {},
   "outputs": [
    {
     "data": {
      "text/plain": [
       "(8155, 11)"
      ]
     },
     "execution_count": 9,
     "metadata": {},
     "output_type": "execute_result"
    }
   ],
   "source": [
    "df.shape"
   ]
  },
  {
   "cell_type": "markdown",
   "id": "00641db9-b4ea-41e4-8b64-cde0914593cc",
   "metadata": {},
   "source": [
    "## Carregando o GPTClassifier"
   ]
  },
  {
   "cell_type": "code",
   "execution_count": null,
   "id": "1f931b88-ae28-4bf0-b673-306ac1d0190b",
   "metadata": {},
   "outputs": [],
   "source": [
    "import random, openai, json\n",
    "from sklearn.base import BaseEstimator\n",
    "from sklearn.utils.multiclass import unique_labels\n",
    "\n",
    "class GPTClassifier(BaseEstimator):\n",
    "\n",
    "    def __init__(self, model, key):\n",
    "        self.model = model\n",
    "        self.key = key\n",
    "        openai.api_key = self.key\n",
    "\n",
    "    def fit(self, X, y):\n",
    "        self.classes_ = unique_labels(y)\n",
    "        self.labels_ = [item.split('::HiClass::Separator::')[-1] for item in self.classes_.tolist()]\n",
    "        return self\n",
    "\n",
    "    def predict(self, X):\n",
    "        predictions = []\n",
    "        for text in X:\n",
    "\n",
    "            pred = ''\n",
    "            text = (f'Classify the article content into one correct research area:\\n {text}')\n",
    "            completion = openai.chat.completions.create(\n",
    "                model = self.model,\n",
    "                temperature = 0,\n",
    "                messages = [{'role': 'user', 'content': text}],\n",
    "                tools = self.classify_content(self.labels_),\n",
    "                tool_choice = {'type': 'function', 'function': {'name': 'classify_content'}}\n",
    "            )\n",
    "\n",
    "            try:\n",
    "                content = completion.choices[0].message.tool_calls[0].function.arguments\n",
    "                pred = json.loads(content)['prediction'][0]\n",
    "                idx = self.labels_.index(pred)\n",
    "            except:  \n",
    "                pred = random.choice(self.labels_)\n",
    "                idx = self.labels_.index(pred)\n",
    "\n",
    "            predictions.append(self.classes_[idx])\n",
    "\n",
    "        return np.array(predictions)\n",
    "\n",
    "    def classify_content(self, labels):\n",
    "\n",
    "        return [{\n",
    "                'type': 'function',\n",
    "                'function': {\n",
    "                    'name': 'classify_content',\n",
    "                    'description': 'Predict the research area for a given article content',\n",
    "                    'parameters': {\n",
    "                        'type': 'object',\n",
    "                        'properties': {\n",
    "                            'prediction': {\n",
    "                                'type': 'array',\n",
    "                                'items': {\n",
    "                                    'type': 'string',\n",
    "                                    'enum': labels\n",
    "                                },\n",
    "                                'description': 'The predicted research areas.'\n",
    "                            }\n",
    "                        },\n",
    "                        'required': [\n",
    "                            'prediction'\n",
    "                        ]\n",
    "                    }\n",
    "                }\n",
    "        }]"
   ]
  },
  {
   "cell_type": "markdown",
   "id": "1c09469e-6fb1-4405-9482-cb66e21bf2f8",
   "metadata": {},
   "source": [
    "## Carregando o OllamaClassifier"
   ]
  },
  {
   "cell_type": "code",
   "execution_count": null,
   "id": "df72a22c-050c-427f-827c-1b46a4c0d1e2",
   "metadata": {},
   "outputs": [],
   "source": [
    "import json, random\n",
    "from sklearn.base import BaseEstimator\n",
    "from sklearn.utils.multiclass import unique_labels\n",
    "from langchain_community.chat_models import ChatOllama\n",
    "from langchain_core.prompts import ChatPromptTemplate\n",
    "\n",
    "class OllamaClassifier(BaseEstimator):\n",
    "\n",
    "    def __init__(self, model):\n",
    "        self.model = ChatOllama(model=model, format='json', temperature=0)\n",
    "\n",
    "    def fit(self, X, y):\n",
    "        self.classes_ = unique_labels(y)\n",
    "        self.labels_ = [item.split('::HiClass::Separator::')[-1] for item in self.classes_.tolist()]\n",
    "        self.template = ChatPromptTemplate.from_template(\"\"\"\n",
    "                Based on the article content:\\n\\n\n",
    "                {text}\\n\\n\n",
    "                Classify the content into one correct research area:\n",
    "                {labels}\n",
    "                Return a JSON object like ['Research Area': ''].\"\"\"\n",
    "            ) | self.model\n",
    "        return self\n",
    "\n",
    "    def predict(self, X):\n",
    "        predictions = []\n",
    "        for text in X:\n",
    "\n",
    "            pred = ''\n",
    "            self.classify_content(self.labels_)\n",
    "            content = self.template.invoke({'text': text, 'labels': '; '.join(self.labels_)})\n",
    "\n",
    "            try:\n",
    "                content = content.dict()\n",
    "                pred = json.loads(content['content'])['Research Area']\n",
    "                idx = self.labels_.index(pred)\n",
    "            except:  \n",
    "                pred = random.choice(self.labels_)\n",
    "                idx = self.labels_.index(pred)\n",
    "\n",
    "            predictions.append(self.classes_[idx])\n",
    "\n",
    "        return np.array(predictions)\n",
    "\n",
    "        \n",
    "    def classify_content(self, labels):\n",
    "\n",
    "        self.model = self.model.bind(\n",
    "            tools = [{\n",
    "                'name': 'classify_content',\n",
    "                'description': 'Predict the research area for a given article content',\n",
    "                'parameters': {\n",
    "                    'type': 'object',\n",
    "                    'properties': {\n",
    "                        'prediction': {\n",
    "                            'type': 'array',\n",
    "                            'description': 'The predicted research areas.',\n",
    "                            'items': {\n",
    "                                'type': 'string',\n",
    "                                'enum': labels\n",
    "                            },\n",
    "                        }\n",
    "                    },\n",
    "                    'required': ['prediction']\n",
    "                }\n",
    "            }], \n",
    "            function_call={'name': 'classify_content'}\n",
    "        )"
   ]
  },
  {
   "cell_type": "markdown",
   "id": "a2560f69-8e1b-4086-b5ef-2cf29f93dfe1",
   "metadata": {},
   "source": [
    "## Definindo função para salvar as predições"
   ]
  },
  {
   "cell_type": "code",
   "execution_count": null,
   "id": "5953ca8d-e512-480f-8db8-5c8be233c4cc",
   "metadata": {},
   "outputs": [],
   "source": [
    "import pickle, gzip"
   ]
  },
  {
   "cell_type": "code",
   "execution_count": null,
   "id": "255107a9-abca-46b9-9f09-a94ea14a3e48",
   "metadata": {},
   "outputs": [],
   "source": [
    "def save(config, prediction):\n",
    "    with gzip.open('prediction/unidades_26082024-' + config + '.pickle', 'wb') as handle:\n",
    "        pickle.dump(prediction, handle)"
   ]
  },
  {
   "cell_type": "markdown",
   "id": "b79b2d23-64a0-4042-93e3-e840676c6422",
   "metadata": {},
   "source": [
    "## Executando os Modelos de Linguagem"
   ]
  },
  {
   "cell_type": "code",
   "execution_count": null,
   "id": "ff4fa5c2-8283-4c4f-b1fb-1209f1fc8b24",
   "metadata": {},
   "outputs": [],
   "source": [
    "import tqdm\n",
    "import numpy as np\n",
    "from itertools import product\n",
    "from sklearn.pipeline import Pipeline\n",
    "from hiclass import LocalClassifierPerParentNode"
   ]
  },
  {
   "cell_type": "code",
   "execution_count": null,
   "id": "d1e0fa71-1133-40df-8673-6e5e2566f92c",
   "metadata": {},
   "outputs": [],
   "source": [
    "strategies = {'LCPPN' : LocalClassifierPerParentNode}"
   ]
  },
  {
   "cell_type": "code",
   "execution_count": null,
   "id": "eee6f24e-f400-4e4a-a2da-17be05a5cee4",
   "metadata": {},
   "outputs": [],
   "source": [
    "classifiers = {'GPT4o' : GPTClassifier('gpt-4o', openai_key), \n",
    "               'GPT3.5' : GPTClassifier('gpt-3.5-turbo-0125', openai_key), \n",
    "               'Llama3.0' : OllamaClassifier('llama3:70b'),\n",
    "               'Llama3.1' : OllamaClassifier('llama3.1:70b')}"
   ]
  },
  {
   "cell_type": "code",
   "execution_count": null,
   "id": "ee77419f-3619-4001-8220-5442ef5e256a",
   "metadata": {},
   "outputs": [],
   "source": [
    "for stg, cls in tqdm.tqdm(product(strategies, classifiers)):\n",
    "\n",
    "    steps = [(stg + ' ' + cls, strategies[stg](classifiers[cls], bert=True))]\n",
    "    pipeline = Pipeline(steps) \n",
    "\n",
    "    X_train, y_train = df['all'].to_numpy(), df[cnpq].to_numpy()\n",
    "    \n",
    "    pipeline.fit(X_train, y_train)\n",
    "    prediction = pipeline.predict(X_train)\n",
    "    print(prediction)\n",
    "    config = ' '.join(list(pipeline.named_steps.keys()))\n",
    "    save(config, prediction)"
   ]
  }
 ],
 "metadata": {
  "kernelspec": {
   "display_name": "Python 3 (ipykernel)",
   "language": "python",
   "name": "python3"
  },
  "language_info": {
   "codemirror_mode": {
    "name": "ipython",
    "version": 3
   },
   "file_extension": ".py",
   "mimetype": "text/x-python",
   "name": "python",
   "nbconvert_exporter": "python",
   "pygments_lexer": "ipython3",
   "version": "3.11.9"
  }
 },
 "nbformat": 4,
 "nbformat_minor": 5
}
