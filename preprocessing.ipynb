{
 "cells": [
  {
   "cell_type": "markdown",
   "id": "64cfba3c-ced1-4408-b608-efb4363f83ef",
   "metadata": {},
   "source": [
    "# Preprocessamento"
   ]
  },
  {
   "cell_type": "code",
   "execution_count": 1,
   "id": "1972c3cd-643b-454b-8a2e-571ce6666a93",
   "metadata": {},
   "outputs": [],
   "source": [
    "attr = ['fiocruz_id', 'Título', 'Resumo', 'Palavras-chaves do autor', 'Veículo de publicação']"
   ]
  },
  {
   "cell_type": "code",
   "execution_count": 2,
   "id": "0486b156-ae31-40b3-b445-29c57729205d",
   "metadata": {},
   "outputs": [],
   "source": [
    "cnpq = ['new_cnpq_level_1a',\n",
    "        'new_cnpq_level_2a',\n",
    "        'new_cnpq_level_3a',\n",
    "        'new_cnpq_level_4a']"
   ]
  },
  {
   "cell_type": "code",
   "execution_count": 3,
   "id": "539eb087-5fdc-4381-9b42-1508ae877b00",
   "metadata": {},
   "outputs": [],
   "source": [
    "all = attr + cnpq"
   ]
  },
  {
   "cell_type": "markdown",
   "id": "b491f2f8-ffa0-4f13-b85b-78471678358c",
   "metadata": {},
   "source": [
    "## Lendo a base"
   ]
  },
  {
   "cell_type": "code",
   "execution_count": 4,
   "id": "56aa240a-d617-4a49-9ab2-ec5a0c376a36",
   "metadata": {},
   "outputs": [],
   "source": [
    "import pandas as pd"
   ]
  },
  {
   "cell_type": "code",
   "execution_count": 5,
   "id": "d145d2de-6fce-4eee-b472-66bceb581bbc",
   "metadata": {},
   "outputs": [],
   "source": [
    "df = pd.read_excel('unidades_26082024.xlsx', dtype=str, na_filter=False)"
   ]
  },
  {
   "cell_type": "code",
   "execution_count": 6,
   "id": "c8e6c07b-a1d8-43ce-a005-5c99e06016f3",
   "metadata": {},
   "outputs": [],
   "source": [
    "# substitui campos com {} por ''\n",
    "df = df.replace('{}', '')\n",
    "# remove caracteres como {, \" } dos campos\n",
    "df = df.replace('[\\\\{\\\\}\"]', '', regex=True)\n",
    "# remove escape de linha, inclusive literal\n",
    "df.replace(to_replace=[r'\\\\t|\\\\n|\\\\r', '\\t|\\n|\\r'], value=['',''], regex=True, inplace=True)\n",
    "# seleciona somente publicações com pelo menos grande área e área\n",
    "df = df.loc[(df['new_cnpq_level_1a'] != '') & (df['new_cnpq_level_2a'] != '')]\n",
    "# removendo amostras da ENSP\n",
    "df = df[df['Unidade de origem do rótulo '] != 'Fiocruz/Escola Nacional de Saúde Pública Sérgio Arouca']\n",
    "# removendo amostras com titulos duplicados\n",
    "df = df.drop_duplicates(subset=['Título'])\n",
    "# removendo amostras sem resumo e palavras-chave\n",
    "df = df[df['Resumo'] != '']\n",
    "df = df[df['Palavras-chaves do autor'] != '']\n",
    "# selecionando os atributos de interesse\n",
    "df = df[all]"
   ]
  },
  {
   "cell_type": "code",
   "execution_count": 7,
   "id": "ded8c9bf-663c-45d4-854f-2ea8466cab15",
   "metadata": {},
   "outputs": [
    {
     "data": {
      "text/plain": [
       "(8155, 9)"
      ]
     },
     "execution_count": 7,
     "metadata": {},
     "output_type": "execute_result"
    }
   ],
   "source": [
    "df.shape"
   ]
  },
  {
   "cell_type": "markdown",
   "id": "35260825-0720-41c4-91b2-1672ee642a83",
   "metadata": {},
   "source": [
    "## Traduzindo para o Inglês"
   ]
  },
  {
   "cell_type": "code",
   "execution_count": 8,
   "id": "c4f28f20-9c65-445e-ac7f-49ae05570a14",
   "metadata": {},
   "outputs": [],
   "source": [
    "from tqdm import tqdm\n",
    "from multiprocessing import Pool\n",
    "from deep_translator import exceptions, GoogleTranslator"
   ]
  },
  {
   "cell_type": "code",
   "execution_count": 9,
   "id": "bd582f33-0f70-4093-8542-07b2e1355dad",
   "metadata": {},
   "outputs": [],
   "source": [
    "tqdm.pandas()"
   ]
  },
  {
   "cell_type": "code",
   "execution_count": 10,
   "id": "4fa39b30-39d8-4508-8ca6-5f0c0ebf2428",
   "metadata": {},
   "outputs": [],
   "source": [
    "translator = GoogleTranslator(source='auto', target='en')"
   ]
  },
  {
   "cell_type": "code",
   "execution_count": 11,
   "id": "44e12b1d-1282-4a36-876d-8ef92f7c4afd",
   "metadata": {},
   "outputs": [],
   "source": [
    "def chunkstring(text, length=4995):\n",
    "    return [text[0+i:length+i] for i in range(0, len(text), length)]\n",
    "        \n",
    "def translate(text, translator=translator):\n",
    "    try:\n",
    "        return ''.join(translator.translate(substring) for substring in chunkstring(text))\n",
    "    except exceptions.TooManyRequests as t:\n",
    "        raise\n",
    "    return text"
   ]
  },
  {
   "cell_type": "code",
   "execution_count": 12,
   "id": "1e069c6d-e716-488e-9674-c6b0947b84ec",
   "metadata": {},
   "outputs": [],
   "source": [
    "def concat_translate(row):\n",
    "    text = row['Título'] + ' ' + row['Resumo'] + ' ' +  row['Palavras-chaves do autor'] + ' ' + row['Veículo de publicação']\n",
    "    return translate(text)"
   ]
  },
  {
   "cell_type": "code",
   "execution_count": 13,
   "id": "e56bdede-85c8-4548-94ca-f67dbbd88e55",
   "metadata": {},
   "outputs": [
    {
     "name": "stderr",
     "output_type": "stream",
     "text": [
      "100%|████████████████████████████████████████████████████████████████████████████████████████████████████████████████████████████████████████████████████████████████████████| 8155/8155 [1:06:12<00:00,  2.05it/s]\n"
     ]
    }
   ],
   "source": [
    "df['all'] = df.progress_apply(concat_translate, axis=1)"
   ]
  },
  {
   "cell_type": "markdown",
   "id": "08a12643-b9d6-4594-a92b-b45e06c134af",
   "metadata": {},
   "source": [
    "## Gravando a base traduzida"
   ]
  },
  {
   "cell_type": "code",
   "execution_count": 14,
   "id": "e5078f50-3f55-4e26-9135-eea88f599170",
   "metadata": {},
   "outputs": [],
   "source": [
    "df.to_csv('unidades_26082024-translated.csv')"
   ]
  }
 ],
 "metadata": {
  "kernelspec": {
   "display_name": "Python 3 (ipykernel)",
   "language": "python",
   "name": "python3"
  },
  "language_info": {
   "codemirror_mode": {
    "name": "ipython",
    "version": 3
   },
   "file_extension": ".py",
   "mimetype": "text/x-python",
   "name": "python",
   "nbconvert_exporter": "python",
   "pygments_lexer": "ipython3",
   "version": "3.11.9"
  }
 },
 "nbformat": 4,
 "nbformat_minor": 5
}
